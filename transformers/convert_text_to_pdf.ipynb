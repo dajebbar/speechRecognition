{
  "nbformat": 4,
  "nbformat_minor": 0,
  "metadata": {
    "colab": {
      "provenance": []
    },
    "kernelspec": {
      "name": "python3",
      "display_name": "Python 3"
    },
    "language_info": {
      "name": "python"
    }
  },
  "cells": [
    {
      "cell_type": "code",
      "source": [
        "!pip install fpdf -q"
      ],
      "metadata": {
        "colab": {
          "base_uri": "https://localhost:8080/"
        },
        "id": "YqW4LBD0ZW4x",
        "outputId": "ebe143bc-4717-4a30-9b72-a74359975399"
      },
      "execution_count": null,
      "outputs": [
        {
          "output_type": "stream",
          "name": "stdout",
          "text": [
            "  Preparing metadata (setup.py) ... \u001b[?25l\u001b[?25hdone\n",
            "  Building wheel for fpdf (setup.py) ... \u001b[?25l\u001b[?25hdone\n"
          ]
        }
      ]
    },
    {
      "cell_type": "code",
      "execution_count": null,
      "metadata": {
        "colab": {
          "base_uri": "https://localhost:8080/",
          "height": 35
        },
        "id": "jXjzXjgxYUl7",
        "outputId": "e36e1358-e28c-44a4-836a-9fec77d3c1e8"
      },
      "outputs": [
        {
          "output_type": "execute_result",
          "data": {
            "text/plain": [
              "''"
            ],
            "application/vnd.google.colaboratory.intrinsic+json": {
              "type": "string"
            }
          },
          "metadata": {},
          "execution_count": 13
        }
      ],
      "source": [
        "# Python program to convert\n",
        "# text file to pdf file\n",
        "\n",
        "\n",
        "from fpdf import FPDF\n",
        "\n",
        "# save FPDF() class into\n",
        "# a variable pdf\n",
        "pdf = FPDF()\n",
        "\n",
        "# Add a page\n",
        "pdf.add_page()\n",
        "\n",
        "# set style and size of font\n",
        "# that you want in the pdf\n",
        "pdf.set_font(\"Arial\", size=12)\n",
        "\n",
        "# open the text file in read mode\n",
        "f = open(\"v01_01_eng.txt\", \"r\")\n",
        "\n",
        "# insert the texts in pdf\n",
        "for x in f:\n",
        "  # pdf.cell(200, 10, txt = x, ln = 1, align = 'C')\n",
        "\tpdf.cell(w=0, h=5, txt=x, ln=1, align='L')\n",
        "\n",
        "# save the pdf with name .pdf\n",
        "pdf.output(\"v01_01_eng.pdf\")\n"
      ]
    },
    {
      "cell_type": "code",
      "source": [],
      "metadata": {
        "id": "9aSZql77ZRfH"
      },
      "execution_count": null,
      "outputs": []
    }
  ]
}